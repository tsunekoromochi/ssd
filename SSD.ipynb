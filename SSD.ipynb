{
 "cells": [
  {
   "cell_type": "code",
   "execution_count": 1,
   "metadata": {},
   "outputs": [
    {
     "name": "stderr",
     "output_type": "stream",
     "text": [
      "/home/tsunei/anaconda3/envs/tf/lib/python3.6/site-packages/h5py/__init__.py:36: FutureWarning: Conversion of the second argument of issubdtype from `float` to `np.floating` is deprecated. In future, it will be treated as `np.float64 == np.dtype(float).type`.\n",
      "  from ._conv import register_converters as _register_converters\n",
      "Using TensorFlow backend.\n"
     ]
    }
   ],
   "source": [
    "import cv2\n",
    "import os\n",
    "import re\n",
    "import warnings\n",
    "import keras\n",
    "from keras.applications.imagenet_utils import preprocess_input\n",
    "from keras.backend.tensorflow_backend import set_session\n",
    "from keras.models import Model\n",
    "from keras.preprocessing import image\n",
    "from keras.backend import tensorflow_backend\n",
    "import matplotlib.pyplot as plt\n",
    "import numpy as np\n",
    "from scipy.misc import imread\n",
    "import tensorflow as tf\n",
    "\n",
    "from ssd import SSD300\n",
    "from ssd_utils import BBoxUtility\n",
    "\n",
    "%matplotlib inline\n",
    "plt.rcParams['figure.figsize'] = (8, 8)\n",
    "plt.rcParams['image.interpolation'] = 'nearest'\n",
    "\n",
    "np.set_printoptions(suppress=True)\n",
    "\n",
    "#config = tf.ConfigProto()\n",
    "#config.gpu_options.per_process_gpu_memory_fraction = 0.45\n",
    "#set_session(tf.Session(config=config))"
   ]
  },
  {
   "cell_type": "code",
   "execution_count": 2,
   "metadata": {},
   "outputs": [],
   "source": [
    "config = tf.ConfigProto(gpu_options = tf.GPUOptions(allow_growth = True))\n",
    "session = tf.Session(config = config)\n",
    "tensorflow_backend.set_session(session)"
   ]
  },
  {
   "cell_type": "code",
   "execution_count": 3,
   "metadata": {},
   "outputs": [],
   "source": [
    "voc_classes = ['jinkou','sizen']\n",
    "NUM_CLASSES = len(voc_classes) + 1"
   ]
  },
  {
   "cell_type": "code",
   "execution_count": 4,
   "metadata": {
    "scrolled": true
   },
   "outputs": [],
   "source": [
    "input_shape=(300, 300, 3)\n",
    "warnings.filterwarnings('ignore')\n",
    "model = SSD300(input_shape, num_classes=NUM_CLASSES)\n",
    "model.load_weights('./checkpoints/weights.100-1.97.hdf5', by_name=True)\n",
    "#model.load_weights('./weights_SSD300.hdf5', by_name=True)\n",
    "bbox_util = BBoxUtility(NUM_CLASSES)"
   ]
  },
  {
   "cell_type": "code",
   "execution_count": 5,
   "metadata": {
    "scrolled": true
   },
   "outputs": [
    {
     "name": "stdout",
     "output_type": "stream",
     "text": [
      "テストデータを読み込み中…\n",
      "テストデータを読み込み終了\n"
     ]
    }
   ],
   "source": [
    "inputs = []\n",
    "images = []\n",
    "inputs2 = []\n",
    "images2 = []\n",
    "\n",
    "def list_pictures(directory, ext='jpg|jpeg|bmp|png|ppm'):\n",
    "    return [os.path.join(root, f)\n",
    "            for root, _, files in os.walk(directory) for f in files\n",
    "            if re.match(r'([\\w]+\\.(?:' + ext + '))', f.lower())]\n",
    "\n",
    "print('テストデータを読み込み中…')\n",
    "for filepath in list_pictures('../master/data/CNN_data/test/jinkou/'):   \n",
    "#for filepath in list_pictures('../master/data/CNN_data/test/sizen/'):   \n",
    "    warnings.filterwarnings('ignore')\n",
    "    img = image.load_img(filepath, target_size=(300, 300))\n",
    "    img = image.img_to_array(img)\n",
    "    images.append(imread(filepath))\n",
    "    inputs.append(img.copy())\n",
    "    \n",
    "inputs = preprocess_input(np.array(inputs))\n",
    "     \n",
    "for filepath in list_pictures('../master/data/CNN_data/test/sizen/'):   \n",
    "    warnings.filterwarnings('ignore')\n",
    "    img2 = image.load_img(filepath, target_size=(300, 300))\n",
    "    img2 = image.img_to_array(img2)\n",
    "    images2.append(imread(filepath))\n",
    "    inputs2.append(img2.copy())\n",
    "\n",
    "inputs2 = preprocess_input(np.array(inputs2))\n",
    "\n",
    "print('テストデータを読み込み終了')"
   ]
  },
  {
   "cell_type": "code",
   "execution_count": 6,
   "metadata": {},
   "outputs": [
    {
     "name": "stdout",
     "output_type": "stream",
     "text": [
      "1200/1200 [==============================] - 19s 16ms/step\n",
      "1200/1200 [==============================] - 16s 14ms/step\n"
     ]
    }
   ],
   "source": [
    "preds = model.predict(inputs, batch_size=1, verbose=1)\n",
    "preds2 = model.predict(inputs2, batch_size=1, verbose=1)\n",
    "#preds = model.predict(inputs, batch_size=1)\n",
    "#print(preds.shape)\n",
    "#print(preds[0])"
   ]
  },
  {
   "cell_type": "code",
   "execution_count": 7,
   "metadata": {},
   "outputs": [],
   "source": [
    "results = bbox_util.detection_out(preds)\n",
    "results2 = bbox_util.detection_out(preds2)\n",
    "#print(results[3])"
   ]
  },
  {
   "cell_type": "code",
   "execution_count": null,
   "metadata": {
    "scrolled": false
   },
   "outputs": [
    {
     "name": "stdout",
     "output_type": "stream",
     "text": [
      "人工物画像の正解率\n",
      "自然物画像： 12.333333333333334 %\n",
      "人工物画像： 87.58333333333333 %\n"
     ]
    }
   ],
   "source": [
    "def detector(images_eva, result, img):\n",
    "    no_feature = 0\n",
    "    count_jinkou = 0\n",
    "    count_sizen = 0\n",
    "    for i, img in enumerate(images_eva):\n",
    "        # Parse the outputs.\n",
    "        if len(results[i])==0:\n",
    "            no_feature += 1\n",
    "            continue\n",
    "\n",
    "\n",
    "        det_label = result[i][:, 0]\n",
    "        det_conf = result[i][:, 1]\n",
    "        det_xmin = result[i][:, 2]\n",
    "        det_ymin = result[i][:, 3]\n",
    "        det_xmax = result[i][:, 4]\n",
    "        det_ymax = result[i][:, 5]           \n",
    "\n",
    "\n",
    "        # Get detections with confidence higher than 0.6.\n",
    "        top_indices = [i for i, conf in enumerate(det_conf) if conf >= 0.6]\n",
    "\n",
    "        top_conf = det_conf[top_indices]\n",
    "        top_label_indices = det_label[top_indices].tolist()\n",
    "        top_xmin = det_xmin[top_indices]\n",
    "        top_ymin = det_ymin[top_indices]\n",
    "        top_xmax = det_xmax[top_indices]\n",
    "        top_ymax = det_ymax[top_indices]\n",
    "\n",
    "        colors = plt.cm.hsv(np.linspace(0, 1, 21)).tolist()\n",
    "\n",
    "        plt.imshow(img / 255.)\n",
    "        currentAxis = plt.gca()\n",
    "\n",
    "        sum_jinkou = 0\n",
    "        sum_sizen = 0\n",
    "\n",
    "        for i in range(top_conf.shape[0]):\n",
    "            xmin = int(round(top_xmin[i] * img.shape[1]))\n",
    "            ymin = int(round(top_ymin[i] * img.shape[0]))\n",
    "            xmax = int(round(top_xmax[i] * img.shape[1]))\n",
    "            ymax = int(round(top_ymax[i] * img.shape[0]))\n",
    "            score = top_conf[i]\n",
    "            label = int(top_label_indices[i])\n",
    "            label_name = voc_classes[label - 1]\n",
    "            if label_name == 'jinkou':\n",
    "                sum_jinkou += ((xmax - xmin) * (ymax - ymin)) \n",
    "            else:\n",
    "                sum_sizen += ((xmax - xmin) * (ymax - ymin)) \n",
    "\n",
    "            display_txt = '{:0.2f}, {}'.format(score, label_name)\n",
    "            coords = (xmin, ymin), xmax-xmin+1, ymax-ymin+1\n",
    "            color = colors[label]\n",
    "            #currentAxis.add_patch(plt.Rectangle(*coords, fill=False, edgecolor=color, linewidth=2))\n",
    "            #currentAxis.text(xmin, ymin, display_txt, bbox={'facecolor':color, 'alpha':0.5})\n",
    "\n",
    "\n",
    "        if sum_jinkou > sum_sizen:\n",
    "            count_jinkou += 1\n",
    "            #print(sum_jinkou, ':', sum_sizen, '-> jinkou', count_jinkou)\n",
    "        elif sum_jinkou < sum_sizen:\n",
    "            count_sizen += 1\n",
    "            #print(sum_jinkou, ':', sum_sizen, '-> sizen', count_sizen)\n",
    "            \n",
    "\n",
    "\n",
    "        #plt.show()\n",
    "    print('自然物画像：', count_sizen / 1200 * 100, '%')\n",
    "    print('人工物画像：', count_jinkou / 1200 * 100, '%')\n",
    "\n",
    "        \n",
    "print('人工物画像の正解率')\n",
    "detector(images, results, img)\n",
    "#print('自然物画像の正解率')\n",
    "#detector(images2, results2, img2)"
   ]
  },
  {
   "cell_type": "code",
   "execution_count": null,
   "metadata": {},
   "outputs": [],
   "source": []
  }
 ],
 "metadata": {
  "anaconda-cloud": {},
  "kernelspec": {
   "display_name": "Python 3",
   "language": "python",
   "name": "python3"
  },
  "language_info": {
   "codemirror_mode": {
    "name": "ipython",
    "version": 3
   },
   "file_extension": ".py",
   "mimetype": "text/x-python",
   "name": "python",
   "nbconvert_exporter": "python",
   "pygments_lexer": "ipython3",
   "version": "3.6.5"
  }
 },
 "nbformat": 4,
 "nbformat_minor": 1
}
